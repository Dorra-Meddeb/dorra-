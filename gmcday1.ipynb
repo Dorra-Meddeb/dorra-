{
 "cells": [
  {
   "cell_type": "code",
   "execution_count": 1,
   "id": "781d2025-102a-4ba7-bb54-f777cee337fe",
   "metadata": {},
   "outputs": [
    {
     "name": "stdout",
     "output_type": "stream",
     "text": [
      "gmc\n"
     ]
    }
   ],
   "source": [
    "print(\"gmc\")"
   ]
  },
  {
   "cell_type": "code",
   "execution_count": null,
   "id": "f9bbaea8-67e3-4390-8e7c-de0d95b3f45e",
   "metadata": {},
   "outputs": [],
   "source": []
  }
 ],
 "metadata": {
  "kernelspec": {
   "display_name": "Python 3",
   "language": "python",
   "name": "python3"
  },
  "language_info": {
   "codemirror_mode": {
    "name": "ipython",
    "version": 3
   },
   "file_extension": ".py",
   "mimetype": "text/x-python",
   "name": "python",
   "nbconvert_exporter": "python",
   "pygments_lexer": "ipython3",
   "version": "3.8.8"
  }
 },
 "nbformat": 4,
 "nbformat_minor": 5
}
